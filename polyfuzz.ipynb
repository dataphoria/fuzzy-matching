{
 "cells": [
  {
   "cell_type": "code",
   "execution_count": 3,
   "id": "401ec629-b02e-4bef-a079-7ede331b15e3",
   "metadata": {},
   "outputs": [],
   "source": [
    "import pandas as pd \n",
    "\n",
    "df_input = pd.read_excel(\"data/Independent_Shops_9.11.22_(3).xlsx\")\n",
    "df_companies = pd.read_csv('data/Company_IDs.csv')"
   ]
  },
  {
   "cell_type": "code",
   "execution_count": null,
   "id": "b2fa8552-38b4-4899-9f23-0641b20df134",
   "metadata": {},
   "outputs": [],
   "source": []
  }
 ],
 "metadata": {
  "kernelspec": {
   "display_name": "Python 3 (ipykernel)",
   "language": "python",
   "name": "python3"
  },
  "language_info": {
   "codemirror_mode": {
    "name": "ipython",
    "version": 3
   },
   "file_extension": ".py",
   "mimetype": "text/x-python",
   "name": "python",
   "nbconvert_exporter": "python",
   "pygments_lexer": "ipython3",
   "version": "3.9.12"
  }
 },
 "nbformat": 4,
 "nbformat_minor": 5
}
